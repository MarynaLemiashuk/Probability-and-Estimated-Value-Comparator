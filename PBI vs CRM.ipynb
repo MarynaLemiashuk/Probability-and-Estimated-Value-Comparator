{
 "cells": [
  {
   "cell_type": "code",
   "execution_count": 4,
   "id": "3f8b7c11-4290-4b03-b17b-2b77a6724d8c",
   "metadata": {},
   "outputs": [
    {
     "name": "stdout",
     "output_type": "stream",
     "text": [
      "✅ Done! Result saved to 'result_comparison.xlsx'\n"
     ]
    }
   ],
   "source": [
    "import pandas as pd\n",
    "\n",
    "# Load both Excel files\n",
    "crm_file = '0_PPO_Report 7-16-2025 4-21-23 PM Python.xlsx'\n",
    "pbi_file = 'Power BI Opp Python.xlsx'\n",
    "\n",
    "# Read Excel data\n",
    "crm_df = pd.read_excel(crm_file)\n",
    "pbi_df = pd.read_excel(pbi_file)\n",
    "\n",
    "# Filter only rows with ITIS_FLAG == 1 from Power BI data\n",
    "pbi_df = pbi_df[pbi_df['ITIS_FLAG'] == 1]\n",
    "\n",
    "# Rename CRM columns for easier comparison\n",
    "crm_df.rename(columns={\n",
    "    'Topic': 'name',  # match Power BI naming\n",
    "    'Probability': 'sey_probability',\n",
    "    'Total amount (calc) (Base)': 'estimatedvalue_eur'\n",
    "}, inplace=True)\n",
    "\n",
    "# Merge datasets on 'name'\n",
    "merged = pbi_df.merge(\n",
    "    crm_df[['name', 'sey_probability', 'estimatedvalue_eur']],\n",
    "    on='name',\n",
    "    how='left',\n",
    "    suffixes=('', '_crm')\n",
    ")\n",
    "\n",
    "# Compare 'sey_probability' values\n",
    "merged['Probability_diff'] = merged.apply(\n",
    "    lambda row: '' if row['sey_probability'] == row['sey_probability_crm'] else row['sey_probability_crm'],\n",
    "    axis=1\n",
    ")\n",
    "\n",
    "# Compare 'estimatedvalue_eur' values\n",
    "merged['estimatedvalue_eur_diff'] = merged.apply(\n",
    "    lambda row: '' if row['estimatedvalue_eur'] == row['estimatedvalue_eur_crm'] else row['estimatedvalue_eur_crm'],\n",
    "    axis=1\n",
    ")\n",
    "\n",
    "# Check if name exists in CRM at all\n",
    "merged['Right name'] = merged.apply(\n",
    "    lambda row: '' if row['name'] in crm_df['name'].values else row['name'],\n",
    "    axis=1\n",
    ")\n",
    "\n",
    "# Prepare final result\n",
    "result = merged[['name', 'Probability_diff', 'estimatedvalue_eur_diff', 'Right name']]\n",
    "result.columns = ['name', 'Probability', 'estimatedvalue_eur', 'Right name']\n",
    "\n",
    "# Save to Excel\n",
    "result.to_excel('result_comparison.xlsx', index=False)\n",
    "\n",
    "print(\"✅ Done! Result saved to 'result_comparison.xlsx'\")\n"
   ]
  },
  {
   "cell_type": "code",
   "execution_count": null,
   "id": "dd97934f-8e16-41f3-b425-aa7c2bfe64fe",
   "metadata": {},
   "outputs": [],
   "source": []
  }
 ],
 "metadata": {
  "kernelspec": {
   "display_name": "Python 3 (ipykernel)",
   "language": "python",
   "name": "python3"
  },
  "language_info": {
   "codemirror_mode": {
    "name": "ipython",
    "version": 3
   },
   "file_extension": ".py",
   "mimetype": "text/x-python",
   "name": "python",
   "nbconvert_exporter": "python",
   "pygments_lexer": "ipython3",
   "version": "3.12.7"
  }
 },
 "nbformat": 4,
 "nbformat_minor": 5
}
